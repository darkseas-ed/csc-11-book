{
 "cells": [
  {
   "cell_type": "markdown",
   "id": "e2528ebb-186d-4e6a-97f1-1e1b70792232",
   "metadata": {},
   "source": [
    "# Sequence\n"
   ]
  },
  {
   "cell_type": "code",
   "execution_count": null,
   "id": "b3f6cfdc-e955-4610-be7a-1ce5263d8432",
   "metadata": {},
   "outputs": [],
   "source": []
  },
  {
   "cell_type": "code",
   "execution_count": null,
   "id": "d9f0a60c-b62e-4983-9399-a5840e9a3fdb",
   "metadata": {},
   "outputs": [],
   "source": []
  },
  {
   "cell_type": "code",
   "execution_count": null,
   "id": "28443a3b-08cf-4d45-bd77-07e7e87bf098",
   "metadata": {},
   "outputs": [],
   "source": []
  }
 ],
 "metadata": {
  "kernelspec": {
   "display_name": "Python 3 (ipykernel)",
   "language": "python",
   "name": "python3"
  },
  "language_info": {
   "codemirror_mode": {
    "name": "ipython",
    "version": 3
   },
   "file_extension": ".py",
   "mimetype": "text/x-python",
   "name": "python",
   "nbconvert_exporter": "python",
   "pygments_lexer": "ipython3",
   "version": "3.10.8"
  }
 },
 "nbformat": 4,
 "nbformat_minor": 5
}
