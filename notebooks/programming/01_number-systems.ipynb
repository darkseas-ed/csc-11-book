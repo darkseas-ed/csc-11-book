{
 "cells": [
  {
   "cell_type": "markdown",
   "id": "3285f2f6-6fb8-452a-ac81-ab07a4832332",
   "metadata": {},
   "source": [
    "# Number Systems\n",
    "\n",
    "## Number systems of the world\n",
    "\n",
    "https://en.wikipedia.org/wiki/List_of_numeral_systems\n",
    "\n",
    "### Vanuatu / Tally marks\n",
    "\n",
    "### Mayans\n",
    "\n",
    "### Imperial\n",
    "\n",
    "### Metric\n",
    "\n",
    "\n",
    "## Computer-based number systems\n",
    "\n",
    "### Binary\n",
    "\n",
    "`0b1111`\n",
    "\n",
    "### Octal\n",
    "\n",
    "6, 12 and 24 bit computers, divisible by 3\n",
    "\n",
    "`0o377`\n",
    "\n",
    "\n",
    "### Hexadecimal\n",
    "\n",
    "`0xff`\n",
    "\n",
    "### Base64\n",
    "\n",
    "https://en.wikipedia.org/wiki/Base64\n",
    "\n",
    "\n"
   ]
  },
  {
   "cell_type": "code",
   "execution_count": 1,
   "id": "db5150a7-7c7a-4483-a842-d7adaf1dbc5c",
   "metadata": {},
   "outputs": [],
   "source": [
    "int?"
   ]
  },
  {
   "cell_type": "markdown",
   "id": "068b3889-0a9e-43f6-883f-5766d94fc867",
   "metadata": {},
   "source": [
    "    Init signature: int(self, /, *args, **kwargs)\n",
    "    Docstring:     \n",
    "    int([x]) -> integer\n",
    "    int(x, base=10) -> integer\n",
    "\n",
    "    Convert a number or string to an integer, or return 0 if no arguments\n",
    "    are given.  If x is a number, return x.__int__().  For floating point\n",
    "    numbers, this truncates towards zero.\n",
    "\n",
    "    If x is not a number or if base is given, then x must be a string,\n",
    "    bytes, or bytearray instance representing an integer literal in the\n",
    "    given base.  The literal can be preceded by '+' or '-' and be surrounded\n",
    "    by whitespace.  The base defaults to 10.  Valid bases are 0 and 2-36.\n",
    "    Base 0 means to interpret the base from the string as an integer literal.\n",
    "    >>> int('0b100', base=0)\n",
    "    4\n",
    "    Type:           type\n",
    "    Subclasses:     bool, IntEnum, IntFlag, _NamedIntConstant"
   ]
  },
  {
   "cell_type": "code",
   "execution_count": 8,
   "id": "0b93568e-9699-4e42-962e-65017557fdcf",
   "metadata": {},
   "outputs": [
    {
     "data": {
      "text/plain": [
       "255"
      ]
     },
     "execution_count": 8,
     "metadata": {},
     "output_type": "execute_result"
    }
   ],
   "source": [
    "int('11111111', base=2)"
   ]
  },
  {
   "cell_type": "code",
   "execution_count": 9,
   "id": "776c0a84-9848-4d8e-8ab8-d4d9eebee69b",
   "metadata": {},
   "outputs": [
    {
     "data": {
      "text/plain": [
       "'0b11111111'"
      ]
     },
     "execution_count": 9,
     "metadata": {},
     "output_type": "execute_result"
    }
   ],
   "source": [
    "bin(255)"
   ]
  },
  {
   "cell_type": "code",
   "execution_count": 7,
   "id": "37eb57c5-9371-46f8-906a-6d77f374edf4",
   "metadata": {},
   "outputs": [
    {
     "data": {
      "text/plain": [
       "'0o7'"
      ]
     },
     "execution_count": 7,
     "metadata": {},
     "output_type": "execute_result"
    }
   ],
   "source": [
    "oct(7)"
   ]
  },
  {
   "cell_type": "code",
   "execution_count": 10,
   "id": "977420b2-3fdd-4496-92a2-3d139e4a1002",
   "metadata": {},
   "outputs": [
    {
     "data": {
      "text/plain": [
       "255"
      ]
     },
     "execution_count": 10,
     "metadata": {},
     "output_type": "execute_result"
    }
   ],
   "source": [
    "int('377', base=8)"
   ]
  },
  {
   "cell_type": "code",
   "execution_count": null,
   "id": "d88ba5a6-db53-421f-a4d6-b15193429f68",
   "metadata": {},
   "outputs": [],
   "source": []
  },
  {
   "cell_type": "code",
   "execution_count": null,
   "id": "66a4a029-3bea-45d7-a268-1547caf26602",
   "metadata": {},
   "outputs": [],
   "source": []
  },
  {
   "cell_type": "code",
   "execution_count": null,
   "id": "cc6b9b92-0584-4e3e-91ea-177fd37e6aaf",
   "metadata": {},
   "outputs": [],
   "source": []
  },
  {
   "cell_type": "code",
   "execution_count": null,
   "id": "8d797e20-eb59-48c9-a591-9c7b691c71da",
   "metadata": {},
   "outputs": [],
   "source": []
  },
  {
   "cell_type": "code",
   "execution_count": null,
   "id": "8d7d1103-cbc2-4b76-b0bb-1cb4047fe31e",
   "metadata": {},
   "outputs": [],
   "source": []
  }
 ],
 "metadata": {
  "kernelspec": {
   "display_name": "Python 3 (ipykernel)",
   "language": "python",
   "name": "python3"
  },
  "language_info": {
   "codemirror_mode": {
    "name": "ipython",
    "version": 3
   },
   "file_extension": ".py",
   "mimetype": "text/x-python",
   "name": "python",
   "nbconvert_exporter": "python",
   "pygments_lexer": "ipython3",
   "version": "3.10.8"
  }
 },
 "nbformat": 4,
 "nbformat_minor": 5
}
