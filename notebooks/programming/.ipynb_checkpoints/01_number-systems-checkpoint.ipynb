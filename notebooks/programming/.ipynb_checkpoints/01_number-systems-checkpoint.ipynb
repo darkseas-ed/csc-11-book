{
 "cells": [
  {
   "cell_type": "markdown",
   "id": "3285f2f6-6fb8-452a-ac81-ab07a4832332",
   "metadata": {},
   "source": [
    "# Number Systems\n",
    "\n",
    "## Number systems of the world\n",
    "\n",
    "## Computer-based number systems\n"
   ]
  },
  {
   "cell_type": "code",
   "execution_count": null,
   "id": "f2d1680e-1307-4a33-8b81-fc6d384d33ea",
   "metadata": {},
   "outputs": [],
   "source": []
  },
  {
   "cell_type": "code",
   "execution_count": null,
   "id": "0b93568e-9699-4e42-962e-65017557fdcf",
   "metadata": {},
   "outputs": [],
   "source": []
  },
  {
   "cell_type": "code",
   "execution_count": null,
   "id": "776c0a84-9848-4d8e-8ab8-d4d9eebee69b",
   "metadata": {},
   "outputs": [],
   "source": []
  },
  {
   "cell_type": "code",
   "execution_count": null,
   "id": "37eb57c5-9371-46f8-906a-6d77f374edf4",
   "metadata": {},
   "outputs": [],
   "source": []
  }
 ],
 "metadata": {
  "kernelspec": {
   "display_name": "Python 3 (ipykernel)",
   "language": "python",
   "name": "python3"
  },
  "language_info": {
   "codemirror_mode": {
    "name": "ipython",
    "version": 3
   },
   "file_extension": ".py",
   "mimetype": "text/x-python",
   "name": "python",
   "nbconvert_exporter": "python",
   "pygments_lexer": "ipython3",
   "version": "3.10.8"
  }
 },
 "nbformat": 4,
 "nbformat_minor": 5
}
