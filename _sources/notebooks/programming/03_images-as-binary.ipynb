{
 "cells": [
  {
   "cell_type": "markdown",
   "id": "7b3090d9-dbbe-427d-a060-d756b741c0a2",
   "metadata": {},
   "source": [
    "# Images as Binary"
   ]
  },
  {
   "cell_type": "code",
   "execution_count": null,
   "id": "f5bf17b4-bea6-4228-997f-199366594b93",
   "metadata": {},
   "outputs": [],
   "source": []
  },
  {
   "cell_type": "code",
   "execution_count": null,
   "id": "24bfbb7d-6bbc-4efd-a497-6e0e546aefb8",
   "metadata": {},
   "outputs": [],
   "source": []
  },
  {
   "cell_type": "code",
   "execution_count": null,
   "id": "4823584e-c5d1-4590-a16d-14637e1794f5",
   "metadata": {},
   "outputs": [],
   "source": []
  },
  {
   "cell_type": "code",
   "execution_count": null,
   "id": "41d7e7da-fcec-4865-92d8-d84126f6e0b1",
   "metadata": {},
   "outputs": [],
   "source": []
  }
 ],
 "metadata": {
  "kernelspec": {
   "display_name": "Python 3 (ipykernel)",
   "language": "python",
   "name": "python3"
  },
  "language_info": {
   "codemirror_mode": {
    "name": "ipython",
    "version": 3
   },
   "file_extension": ".py",
   "mimetype": "text/x-python",
   "name": "python",
   "nbconvert_exporter": "python",
   "pygments_lexer": "ipython3",
   "version": "3.10.8"
  }
 },
 "nbformat": 4,
 "nbformat_minor": 5
}
