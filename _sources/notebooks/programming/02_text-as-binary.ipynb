{
 "cells": [
  {
   "cell_type": "markdown",
   "id": "5a23edf1-d929-43a3-bc5c-2c88e66d347f",
   "metadata": {},
   "source": [
    "# Text as Binary\n",
    "\n",
    "## ASCII\n",
    "\n",
    "## Unicode\n"
   ]
  },
  {
   "cell_type": "code",
   "execution_count": 1,
   "id": "85e0d958-16ec-4260-af53-f6ab1aaf69f2",
   "metadata": {},
   "outputs": [
    {
     "data": {
      "text/plain": [
       "\u001b[0;31mSignature:\u001b[0m \u001b[0mord\u001b[0m\u001b[0;34m(\u001b[0m\u001b[0mc\u001b[0m\u001b[0;34m,\u001b[0m \u001b[0;34m/\u001b[0m\u001b[0;34m)\u001b[0m\u001b[0;34m\u001b[0m\u001b[0;34m\u001b[0m\u001b[0m\n",
       "\u001b[0;31mDocstring:\u001b[0m Return the Unicode code point for a one-character string.\n",
       "\u001b[0;31mType:\u001b[0m      builtin_function_or_method\n"
      ]
     },
     "metadata": {},
     "output_type": "display_data"
    }
   ],
   "source": [
    "ord?"
   ]
  },
  {
   "cell_type": "code",
   "execution_count": 2,
   "id": "7c9f0190-1115-48a1-902d-c583e1876cec",
   "metadata": {},
   "outputs": [
    {
     "data": {
      "text/plain": [
       "\u001b[0;31mSignature:\u001b[0m \u001b[0mascii\u001b[0m\u001b[0;34m(\u001b[0m\u001b[0mobj\u001b[0m\u001b[0;34m,\u001b[0m \u001b[0;34m/\u001b[0m\u001b[0;34m)\u001b[0m\u001b[0;34m\u001b[0m\u001b[0;34m\u001b[0m\u001b[0m\n",
       "\u001b[0;31mDocstring:\u001b[0m\n",
       "Return an ASCII-only representation of an object.\n",
       "\n",
       "As repr(), return a string containing a printable representation of an\n",
       "object, but escape the non-ASCII characters in the string returned by\n",
       "repr() using \\\\x, \\\\u or \\\\U escapes. This generates a string similar\n",
       "to that returned by repr() in Python 2.\n",
       "\u001b[0;31mType:\u001b[0m      builtin_function_or_method\n"
      ]
     },
     "metadata": {},
     "output_type": "display_data"
    }
   ],
   "source": [
    "ascii?"
   ]
  },
  {
   "cell_type": "markdown",
   "id": "0974acdb-f63f-4173-93bd-3fb45196044b",
   "metadata": {},
   "source": [
    "$$\\alpha$$\n"
   ]
  },
  {
   "cell_type": "code",
   "execution_count": 3,
   "id": "20e5dd8d-a313-464e-8153-6bdebecf29fb",
   "metadata": {},
   "outputs": [
    {
     "data": {
      "text/plain": [
       "\"'\\\\U0001d6fc'\""
      ]
     },
     "execution_count": 3,
     "metadata": {},
     "output_type": "execute_result"
    }
   ],
   "source": [
    "ascii(\"𝛼\")"
   ]
  },
  {
   "cell_type": "code",
   "execution_count": 7,
   "id": "acb85639-d296-48a5-b5ee-c337136ed30b",
   "metadata": {},
   "outputs": [
    {
     "data": {
      "text/plain": [
       "tuple"
      ]
     },
     "execution_count": 7,
     "metadata": {},
     "output_type": "execute_result"
    }
   ],
   "source": [
    "x = \"a\",\n",
    "type(x)"
   ]
  },
  {
   "cell_type": "code",
   "execution_count": null,
   "id": "fec00b7c-398c-4400-bcb3-c5a9742ba7dc",
   "metadata": {},
   "outputs": [],
   "source": []
  }
 ],
 "metadata": {
  "kernelspec": {
   "display_name": "Python 3 (ipykernel)",
   "language": "python",
   "name": "python3"
  },
  "language_info": {
   "codemirror_mode": {
    "name": "ipython",
    "version": 3
   },
   "file_extension": ".py",
   "mimetype": "text/x-python",
   "name": "python",
   "nbconvert_exporter": "python",
   "pygments_lexer": "ipython3",
   "version": "3.10.8"
  }
 },
 "nbformat": 4,
 "nbformat_minor": 5
}
